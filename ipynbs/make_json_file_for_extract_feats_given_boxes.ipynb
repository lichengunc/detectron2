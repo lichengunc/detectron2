{
 "cells": [
  {
   "cell_type": "markdown",
   "metadata": {},
   "source": [
    "#### Make json file containing [file_name, bboxes], where bboxes = [bbox (xywh)]"
   ]
  },
  {
   "cell_type": "code",
   "execution_count": 1,
   "metadata": {},
   "outputs": [],
   "source": [
    "import json"
   ]
  },
  {
   "cell_type": "code",
   "execution_count": 3,
   "metadata": {},
   "outputs": [],
   "source": [
    "input_data = json.load(open('../datasets/coco/annotations/instances_val2017.json'))"
   ]
  },
  {
   "cell_type": "code",
   "execution_count": 4,
   "metadata": {},
   "outputs": [
    {
     "name": "stdout",
     "output_type": "stream",
     "text": [
      "dict_keys(['info', 'licenses', 'images', 'annotations', 'categories'])\n"
     ]
    }
   ],
   "source": [
    "print(input_data.keys())"
   ]
  },
  {
   "cell_type": "code",
   "execution_count": 9,
   "metadata": {},
   "outputs": [],
   "source": [
    "# images, annotations, Imgs, Anns\n",
    "imgs = input_data['images']\n",
    "anns = input_data['annotations']\n",
    "Imgs = {img['id']: img for img in imgs}\n",
    "Anns = {ann['id']: ann for ann in anns}\n",
    "img_to_anns = {}\n",
    "for ann in anns:\n",
    "    img_id = ann['image_id']\n",
    "    if img_id not in img_to_anns:\n",
    "        img_to_anns[img_id] = []\n",
    "    img_to_anns[img_id].append(ann)"
   ]
  },
  {
   "cell_type": "code",
   "execution_count": 16,
   "metadata": {},
   "outputs": [
    {
     "name": "stdout",
     "output_type": "stream",
     "text": [
      "4952 records in data.\n"
     ]
    }
   ],
   "source": [
    "# make data\n",
    "data = []\n",
    "for img_id, anns in img_to_anns.items():\n",
    "    record = {}\n",
    "    record[\"file_name\"] = Imgs[img_id][\"file_name\"]\n",
    "    record[\"bboxes\"] = [ann[\"bbox\"] for ann in anns]\n",
    "    data.append(record)\n",
    "print(f\"{len(data)} records in data.\")"
   ]
  },
  {
   "cell_type": "code",
   "execution_count": 17,
   "metadata": {},
   "outputs": [],
   "source": [
    "with open(\"../tmp/val2017_examples.json\", \"w\") as f:\n",
    "    json.dump(data, f)"
   ]
  },
  {
   "cell_type": "code",
   "execution_count": null,
   "metadata": {},
   "outputs": [],
   "source": []
  }
 ],
 "metadata": {
  "kernelspec": {
   "display_name": "Python 3",
   "language": "python",
   "name": "python3"
  },
  "language_info": {
   "codemirror_mode": {
    "name": "ipython",
    "version": 3
   },
   "file_extension": ".py",
   "mimetype": "text/x-python",
   "name": "python",
   "nbconvert_exporter": "python",
   "pygments_lexer": "ipython3",
   "version": "3.6.8"
  }
 },
 "nbformat": 4,
 "nbformat_minor": 4
}
